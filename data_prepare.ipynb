{
 "cells": [
  {
   "cell_type": "markdown",
   "metadata": {},
   "source": [
    "# Обработка данных по объемам"
   ]
  },
  {
   "cell_type": "markdown",
   "metadata": {},
   "source": [
    "Обработка объемных данных для выявления дней повышенной волатильности. Идея в том, чтобы найти дни в которые проходят большие объемы и есть идея направления движения."
   ]
  },
  {
   "cell_type": "code",
   "execution_count": 109,
   "metadata": {},
   "outputs": [],
   "source": [
    "import sqlite3\n",
    "import pandas as pd\n",
    "import numpy as np"
   ]
  },
  {
   "cell_type": "code",
   "execution_count": 110,
   "metadata": {},
   "outputs": [
    {
     "data": {
      "text/html": [
       "<div>\n",
       "<style scoped>\n",
       "    .dataframe tbody tr th:only-of-type {\n",
       "        vertical-align: middle;\n",
       "    }\n",
       "\n",
       "    .dataframe tbody tr th {\n",
       "        vertical-align: top;\n",
       "    }\n",
       "\n",
       "    .dataframe thead th {\n",
       "        text-align: right;\n",
       "    }\n",
       "</style>\n",
       "<table border=\"1\" class=\"dataframe\">\n",
       "  <thead>\n",
       "    <tr style=\"text-align: right;\">\n",
       "      <th></th>\n",
       "      <th>TRADEDATE</th>\n",
       "      <th>VOLUME</th>\n",
       "    </tr>\n",
       "  </thead>\n",
       "  <tbody>\n",
       "    <tr>\n",
       "      <th>0</th>\n",
       "      <td>2015-01-05 10:00:00</td>\n",
       "      <td>5970</td>\n",
       "    </tr>\n",
       "    <tr>\n",
       "      <th>1</th>\n",
       "      <td>2015-01-05 10:01:00</td>\n",
       "      <td>3455</td>\n",
       "    </tr>\n",
       "    <tr>\n",
       "      <th>2</th>\n",
       "      <td>2015-01-05 10:02:00</td>\n",
       "      <td>2721</td>\n",
       "    </tr>\n",
       "    <tr>\n",
       "      <th>3</th>\n",
       "      <td>2015-01-05 10:03:00</td>\n",
       "      <td>4008</td>\n",
       "    </tr>\n",
       "    <tr>\n",
       "      <th>4</th>\n",
       "      <td>2015-01-05 10:04:00</td>\n",
       "      <td>1471</td>\n",
       "    </tr>\n",
       "    <tr>\n",
       "      <th>...</th>\n",
       "      <td>...</td>\n",
       "      <td>...</td>\n",
       "    </tr>\n",
       "    <tr>\n",
       "      <th>2024358</th>\n",
       "      <td>2024-12-06 23:45:00</td>\n",
       "      <td>34</td>\n",
       "    </tr>\n",
       "    <tr>\n",
       "      <th>2024359</th>\n",
       "      <td>2024-12-06 23:46:00</td>\n",
       "      <td>168</td>\n",
       "    </tr>\n",
       "    <tr>\n",
       "      <th>2024360</th>\n",
       "      <td>2024-12-06 23:47:00</td>\n",
       "      <td>32</td>\n",
       "    </tr>\n",
       "    <tr>\n",
       "      <th>2024361</th>\n",
       "      <td>2024-12-06 23:48:00</td>\n",
       "      <td>18</td>\n",
       "    </tr>\n",
       "    <tr>\n",
       "      <th>2024362</th>\n",
       "      <td>2024-12-06 23:49:00</td>\n",
       "      <td>68</td>\n",
       "    </tr>\n",
       "  </tbody>\n",
       "</table>\n",
       "<p>2024363 rows × 2 columns</p>\n",
       "</div>"
      ],
      "text/plain": [
       "                   TRADEDATE  VOLUME\n",
       "0        2015-01-05 10:00:00    5970\n",
       "1        2015-01-05 10:01:00    3455\n",
       "2        2015-01-05 10:02:00    2721\n",
       "3        2015-01-05 10:03:00    4008\n",
       "4        2015-01-05 10:04:00    1471\n",
       "...                      ...     ...\n",
       "2024358  2024-12-06 23:45:00      34\n",
       "2024359  2024-12-06 23:46:00     168\n",
       "2024360  2024-12-06 23:47:00      32\n",
       "2024361  2024-12-06 23:48:00      18\n",
       "2024362  2024-12-06 23:49:00      68\n",
       "\n",
       "[2024363 rows x 2 columns]"
      ]
     },
     "execution_count": 110,
     "metadata": {},
     "output_type": "execute_result"
    }
   ],
   "source": [
    "# Установить соединение с базой данных\n",
    "conn = sqlite3.connect(r'C:\\Users\\Alkor\\gd\\data_quote_db\\RTS_futures_minute.db')\n",
    "\n",
    "# SQL-запрос для извлечения данных\n",
    "query = \"SELECT TRADEDATE, VOLUME FROM Minute\"\n",
    "\n",
    "# Загрузить данные в DataFrame\n",
    "df = pd.read_sql_query(query, conn)\n",
    "\n",
    "# Закрыть соединение\n",
    "conn.close()\n",
    "\n",
    "df"
   ]
  },
  {
   "cell_type": "code",
   "execution_count": 111,
   "metadata": {},
   "outputs": [
    {
     "data": {
      "text/html": [
       "<div>\n",
       "<style scoped>\n",
       "    .dataframe tbody tr th:only-of-type {\n",
       "        vertical-align: middle;\n",
       "    }\n",
       "\n",
       "    .dataframe tbody tr th {\n",
       "        vertical-align: top;\n",
       "    }\n",
       "\n",
       "    .dataframe thead th {\n",
       "        text-align: right;\n",
       "    }\n",
       "</style>\n",
       "<table border=\"1\" class=\"dataframe\">\n",
       "  <thead>\n",
       "    <tr style=\"text-align: right;\">\n",
       "      <th></th>\n",
       "      <th>TRADEDATE</th>\n",
       "      <th>VOLUME</th>\n",
       "      <th>date</th>\n",
       "      <th>time</th>\n",
       "    </tr>\n",
       "  </thead>\n",
       "  <tbody>\n",
       "    <tr>\n",
       "      <th>0</th>\n",
       "      <td>2015-01-05 10:00:00</td>\n",
       "      <td>5970</td>\n",
       "      <td>2015-01-05</td>\n",
       "      <td>10:00:00</td>\n",
       "    </tr>\n",
       "    <tr>\n",
       "      <th>1</th>\n",
       "      <td>2015-01-05 10:01:00</td>\n",
       "      <td>3455</td>\n",
       "      <td>2015-01-05</td>\n",
       "      <td>10:01:00</td>\n",
       "    </tr>\n",
       "    <tr>\n",
       "      <th>2</th>\n",
       "      <td>2015-01-05 10:02:00</td>\n",
       "      <td>2721</td>\n",
       "      <td>2015-01-05</td>\n",
       "      <td>10:02:00</td>\n",
       "    </tr>\n",
       "    <tr>\n",
       "      <th>3</th>\n",
       "      <td>2015-01-05 10:03:00</td>\n",
       "      <td>4008</td>\n",
       "      <td>2015-01-05</td>\n",
       "      <td>10:03:00</td>\n",
       "    </tr>\n",
       "    <tr>\n",
       "      <th>4</th>\n",
       "      <td>2015-01-05 10:04:00</td>\n",
       "      <td>1471</td>\n",
       "      <td>2015-01-05</td>\n",
       "      <td>10:04:00</td>\n",
       "    </tr>\n",
       "    <tr>\n",
       "      <th>...</th>\n",
       "      <td>...</td>\n",
       "      <td>...</td>\n",
       "      <td>...</td>\n",
       "      <td>...</td>\n",
       "    </tr>\n",
       "    <tr>\n",
       "      <th>2024358</th>\n",
       "      <td>2024-12-06 23:45:00</td>\n",
       "      <td>34</td>\n",
       "      <td>2024-12-06</td>\n",
       "      <td>23:45:00</td>\n",
       "    </tr>\n",
       "    <tr>\n",
       "      <th>2024359</th>\n",
       "      <td>2024-12-06 23:46:00</td>\n",
       "      <td>168</td>\n",
       "      <td>2024-12-06</td>\n",
       "      <td>23:46:00</td>\n",
       "    </tr>\n",
       "    <tr>\n",
       "      <th>2024360</th>\n",
       "      <td>2024-12-06 23:47:00</td>\n",
       "      <td>32</td>\n",
       "      <td>2024-12-06</td>\n",
       "      <td>23:47:00</td>\n",
       "    </tr>\n",
       "    <tr>\n",
       "      <th>2024361</th>\n",
       "      <td>2024-12-06 23:48:00</td>\n",
       "      <td>18</td>\n",
       "      <td>2024-12-06</td>\n",
       "      <td>23:48:00</td>\n",
       "    </tr>\n",
       "    <tr>\n",
       "      <th>2024362</th>\n",
       "      <td>2024-12-06 23:49:00</td>\n",
       "      <td>68</td>\n",
       "      <td>2024-12-06</td>\n",
       "      <td>23:49:00</td>\n",
       "    </tr>\n",
       "  </tbody>\n",
       "</table>\n",
       "<p>2024363 rows × 4 columns</p>\n",
       "</div>"
      ],
      "text/plain": [
       "                  TRADEDATE  VOLUME        date      time\n",
       "0       2015-01-05 10:00:00    5970  2015-01-05  10:00:00\n",
       "1       2015-01-05 10:01:00    3455  2015-01-05  10:01:00\n",
       "2       2015-01-05 10:02:00    2721  2015-01-05  10:02:00\n",
       "3       2015-01-05 10:03:00    4008  2015-01-05  10:03:00\n",
       "4       2015-01-05 10:04:00    1471  2015-01-05  10:04:00\n",
       "...                     ...     ...         ...       ...\n",
       "2024358 2024-12-06 23:45:00      34  2024-12-06  23:45:00\n",
       "2024359 2024-12-06 23:46:00     168  2024-12-06  23:46:00\n",
       "2024360 2024-12-06 23:47:00      32  2024-12-06  23:47:00\n",
       "2024361 2024-12-06 23:48:00      18  2024-12-06  23:48:00\n",
       "2024362 2024-12-06 23:49:00      68  2024-12-06  23:49:00\n",
       "\n",
       "[2024363 rows x 4 columns]"
      ]
     },
     "execution_count": 111,
     "metadata": {},
     "output_type": "execute_result"
    }
   ],
   "source": [
    "df['TRADEDATE'] = pd.to_datetime(df['TRADEDATE'])\n",
    "\n",
    "# Добавление колонки с датой\n",
    "df['date'] = df['TRADEDATE'].dt.date\n",
    "\n",
    "# Добавление колонки с временем\n",
    "df['time'] = df['TRADEDATE'].dt.time\n",
    "\n",
    "# # Вычисление накопленных объемов по дням\n",
    "# df['daily_cumulative_volume'] = df.groupby('date')['VOLUME'].cumsum()\n",
    "\n",
    "df"
   ]
  },
  {
   "cell_type": "code",
   "execution_count": 112,
   "metadata": {},
   "outputs": [],
   "source": [
    "# # Вычисление перцентилей за последние 30 дней\n",
    "# def calculate_percentile(row, window):\n",
    "#     volumes = window['daily_cumulative_volume']\n",
    "#     return np.sum(volumes < row['daily_cumulative_volume']) / len(volumes) * 100\n",
    "\n",
    "# # Группировка по 30-дневным окнам и вычисление перцентилей\n",
    "# df['percentile'] = (\n",
    "#     df['daily_cumulative_volume']\n",
    "#     .rolling(window=30, min_periods=1)  # 30-дневное окно\n",
    "#     .apply(lambda x: np.sum(x < x.iloc[-1]) / len(x) * 100, raw=False)  # Процентиль текущего дня\n",
    "# )\n",
    "\n",
    "# print(df)"
   ]
  },
  {
   "cell_type": "markdown",
   "metadata": {},
   "source": [
    "Создаем колонку с перцентилем объема к выборке за 30 последних значений с таким же временем."
   ]
  },
  {
   "cell_type": "code",
   "execution_count": 113,
   "metadata": {},
   "outputs": [],
   "source": [
    "# Группировка по времени\n",
    "df[\"percentile\"] = (\n",
    "    df.groupby(\"time\")[\"VOLUME\"]\n",
    "    .rolling(window=30, min_periods=1)  # Используем скользящее окно\n",
    "    .apply(lambda x: (x <= x.iloc[-1]).mean() * 100)  # Рассчёт перцентиля\n",
    "    .reset_index(level=0, drop=True)  # Сбрасываем лишний индекс\n",
    ")"
   ]
  },
  {
   "cell_type": "markdown",
   "metadata": {},
   "source": [
    "Создаем колонку со средними значениями предыдущих строк колонки percentile за каждый день"
   ]
  },
  {
   "cell_type": "code",
   "execution_count": 114,
   "metadata": {},
   "outputs": [],
   "source": [
    "# Группировка по дате и расчёт среднего\n",
    "df[\"avg_percentile\"] = (\n",
    "    df.groupby(\"date\")[\"percentile\"]  # Группировка по дате\n",
    "    # .shift()  # Если текущая строка не должна учитываться при расчёте среднего (сдвиг)\n",
    "    .expanding()  # Нарастающее среднее внутри каждой группы\n",
    "    .mean()  # Среднее\n",
    "    .reset_index(level=0, drop=True)  # Сбрасываем лишний индекс\n",
    ")"
   ]
  },
  {
   "cell_type": "code",
   "execution_count": 115,
   "metadata": {},
   "outputs": [
    {
     "name": "stdout",
     "output_type": "stream",
     "text": [
      "                  TRADEDATE  VOLUME        date      time  percentile  \\\n",
      "0       2015-01-05 10:00:00    5970  2015-01-05  10:00:00      100.00   \n",
      "1       2015-01-05 10:01:00    3455  2015-01-05  10:01:00      100.00   \n",
      "2       2015-01-05 10:02:00    2721  2015-01-05  10:02:00      100.00   \n",
      "3       2015-01-05 10:03:00    4008  2015-01-05  10:03:00      100.00   \n",
      "4       2015-01-05 10:04:00    1471  2015-01-05  10:04:00      100.00   \n",
      "...                     ...     ...         ...       ...         ...   \n",
      "2024358 2024-12-06 23:45:00      34  2024-12-06  23:45:00       33.33   \n",
      "2024359 2024-12-06 23:46:00     168  2024-12-06  23:46:00       93.33   \n",
      "2024360 2024-12-06 23:47:00      32  2024-12-06  23:47:00       50.00   \n",
      "2024361 2024-12-06 23:48:00      18  2024-12-06  23:48:00       30.00   \n",
      "2024362 2024-12-06 23:49:00      68  2024-12-06  23:49:00       56.67   \n",
      "\n",
      "         avg_percentile  \n",
      "0                100.00  \n",
      "1                100.00  \n",
      "2                100.00  \n",
      "3                100.00  \n",
      "4                100.00  \n",
      "...                 ...  \n",
      "2024358           57.16  \n",
      "2024359           57.20  \n",
      "2024360           57.19  \n",
      "2024361           57.16  \n",
      "2024362           57.16  \n",
      "\n",
      "[2024363 rows x 6 columns]\n"
     ]
    }
   ],
   "source": [
    "# Округление значений в указанных колонках до двух знаков\n",
    "df[[\"percentile\", \"avg_percentile\"]] = df[[\"percentile\", \"avg_percentile\"]].round(2)\n",
    "\n",
    "print(df)"
   ]
  },
  {
   "cell_type": "code",
   "execution_count": 116,
   "metadata": {},
   "outputs": [],
   "source": [
    "# # Запись в Excel\n",
    "# df.head(2000).to_excel('example.xlsx')\n",
    "\n",
    "# Сохраняем первые строки в CSV\n",
    "df.iloc[:3000].to_csv(\"head_df.csv\", index=False)\n",
    "\n",
    "# Сохраняем последние 3000 строк в CSV\n",
    "df.tail(3000).to_csv(\"last_rows.csv\", index=False)"
   ]
  },
  {
   "cell_type": "markdown",
   "metadata": {},
   "source": [
    "Создаем список из значений колонки date где значение avg_percentile на 60 строке за дату больше либо равно 75."
   ]
  },
  {
   "cell_type": "code",
   "execution_count": 117,
   "metadata": {},
   "outputs": [
    {
     "name": "stdout",
     "output_type": "stream",
     "text": [
      "Список дат: [datetime.date(2015, 1, 5), datetime.date(2015, 1, 26), datetime.date(2015, 2, 6), datetime.date(2015, 2, 9), datetime.date(2015, 2, 12), datetime.date(2015, 3, 26), datetime.date(2015, 4, 9), datetime.date(2015, 4, 10), datetime.date(2015, 4, 13), datetime.date(2015, 6, 22), datetime.date(2015, 7, 8), datetime.date(2015, 7, 28), datetime.date(2015, 8, 3), datetime.date(2015, 8, 24), datetime.date(2015, 9, 1), datetime.date(2016, 1, 18), datetime.date(2016, 1, 19), datetime.date(2016, 1, 20), datetime.date(2016, 1, 21), datetime.date(2016, 1, 22), datetime.date(2016, 1, 25), datetime.date(2016, 1, 29), datetime.date(2016, 3, 17), datetime.date(2016, 4, 13), datetime.date(2016, 4, 18), datetime.date(2016, 4, 20), datetime.date(2016, 4, 21), datetime.date(2016, 11, 9), datetime.date(2016, 12, 12), datetime.date(2017, 2, 28), datetime.date(2017, 3, 9), datetime.date(2017, 3, 10), datetime.date(2017, 11, 8), datetime.date(2018, 1, 18), datetime.date(2018, 1, 25), datetime.date(2018, 1, 26), datetime.date(2018, 2, 6), datetime.date(2018, 2, 26), datetime.date(2018, 4, 9), datetime.date(2018, 4, 10), datetime.date(2018, 6, 19), datetime.date(2018, 8, 9), datetime.date(2018, 8, 10), datetime.date(2018, 8, 13), datetime.date(2018, 10, 11), datetime.date(2018, 11, 26), datetime.date(2019, 2, 14), datetime.date(2019, 7, 12), datetime.date(2019, 7, 25), datetime.date(2019, 8, 2), datetime.date(2020, 1, 21), datetime.date(2020, 1, 23), datetime.date(2020, 1, 29), datetime.date(2020, 1, 30), datetime.date(2020, 2, 3), datetime.date(2020, 2, 10), datetime.date(2020, 2, 26), datetime.date(2020, 2, 27), datetime.date(2020, 2, 28), datetime.date(2020, 3, 2), datetime.date(2020, 3, 6), datetime.date(2020, 3, 12), datetime.date(2020, 3, 13), datetime.date(2020, 3, 20), datetime.date(2020, 4, 16), datetime.date(2020, 5, 21), datetime.date(2020, 6, 11), datetime.date(2020, 9, 24), datetime.date(2021, 1, 28), datetime.date(2021, 3, 1), datetime.date(2021, 3, 2), datetime.date(2021, 3, 4), datetime.date(2021, 3, 24), datetime.date(2021, 4, 12), datetime.date(2021, 4, 15), datetime.date(2021, 4, 19), datetime.date(2021, 6, 3), datetime.date(2021, 6, 14), datetime.date(2021, 7, 26), datetime.date(2021, 8, 4), datetime.date(2021, 8, 9), datetime.date(2021, 9, 20), datetime.date(2021, 10, 1), datetime.date(2021, 10, 6), datetime.date(2021, 11, 26), datetime.date(2021, 11, 29), datetime.date(2021, 12, 1), datetime.date(2021, 12, 14), datetime.date(2022, 1, 6), datetime.date(2022, 1, 14), datetime.date(2022, 1, 17), datetime.date(2022, 1, 18), datetime.date(2022, 1, 19), datetime.date(2022, 1, 20), datetime.date(2022, 1, 21), datetime.date(2022, 1, 25), datetime.date(2022, 2, 14), datetime.date(2022, 2, 21), datetime.date(2022, 2, 22), datetime.date(2022, 4, 21), datetime.date(2022, 5, 12), datetime.date(2022, 5, 31), datetime.date(2022, 6, 9), datetime.date(2022, 9, 21), datetime.date(2022, 11, 7), datetime.date(2023, 1, 23), datetime.date(2023, 2, 9), datetime.date(2023, 2, 28), datetime.date(2023, 4, 3), datetime.date(2023, 5, 30), datetime.date(2023, 6, 26), datetime.date(2023, 7, 11), datetime.date(2023, 7, 17), datetime.date(2023, 8, 7), datetime.date(2023, 9, 12), datetime.date(2023, 9, 13), datetime.date(2024, 2, 26), datetime.date(2024, 3, 25), datetime.date(2024, 6, 5), datetime.date(2024, 6, 13), datetime.date(2024, 7, 11), datetime.date(2024, 7, 16), datetime.date(2024, 8, 26), datetime.date(2024, 9, 3), datetime.date(2024, 10, 28), datetime.date(2024, 11, 6), datetime.date(2024, 11, 25), datetime.date(2024, 11, 26), datetime.date(2024, 11, 27), datetime.date(2024, 11, 28)]\n",
      "Длина списка: 130\n",
      "Уникальные значения в колонке date: 2492\n",
      "0.0521669341894061\n"
     ]
    }
   ],
   "source": [
    "# Фильтрация дат, где значение avg_percentile на 60-й строке >= 75\n",
    "dates_list = (\n",
    "    df.groupby(\"date\")  # Группировка по дате\n",
    "    .nth(59)  # Выбор 60-й строки (индексация с нуля)\n",
    "    .query(\"avg_percentile >= 75\")  # Фильтр по условию\n",
    "    # .index.tolist()  # Преобразование индекса в список\n",
    "    .date.tolist()  # Преобразование дат в список\n",
    ")\n",
    "unique_values = df[\"date\"].nunique()\n",
    "\n",
    "print(\"Список дат:\", dates_list)\n",
    "print(\"Длина списка:\", len(dates_list))\n",
    "print(f\"Уникальные значения в колонке date: {unique_values}\")\n",
    "print(len(dates_list) / unique_values)"
   ]
  }
 ],
 "metadata": {
  "kernelspec": {
   "display_name": "base",
   "language": "python",
   "name": "python3"
  },
  "language_info": {
   "codemirror_mode": {
    "name": "ipython",
    "version": 3
   },
   "file_extension": ".py",
   "mimetype": "text/x-python",
   "name": "python",
   "nbconvert_exporter": "python",
   "pygments_lexer": "ipython3",
   "version": "3.12.7"
  }
 },
 "nbformat": 4,
 "nbformat_minor": 2
}
