{
 "cells": [
  {
   "cell_type": "markdown",
   "metadata": {},
   "source": [
    "# Симуляция торговых сигналов"
   ]
  },
  {
   "cell_type": "code",
   "execution_count": 224,
   "metadata": {},
   "outputs": [],
   "source": [
    "import pandas as pd\n",
    "import numpy as np"
   ]
  },
  {
   "cell_type": "markdown",
   "metadata": {},
   "source": [
    "Загрузка 5 минутных данных из файла"
   ]
  },
  {
   "cell_type": "code",
   "execution_count": 225,
   "metadata": {},
   "outputs": [
    {
     "data": {
      "text/html": [
       "<div>\n",
       "<style scoped>\n",
       "    .dataframe tbody tr th:only-of-type {\n",
       "        vertical-align: middle;\n",
       "    }\n",
       "\n",
       "    .dataframe tbody tr th {\n",
       "        vertical-align: top;\n",
       "    }\n",
       "\n",
       "    .dataframe thead th {\n",
       "        text-align: right;\n",
       "    }\n",
       "</style>\n",
       "<table border=\"1\" class=\"dataframe\">\n",
       "  <thead>\n",
       "    <tr style=\"text-align: right;\">\n",
       "      <th></th>\n",
       "      <th>tradedate</th>\n",
       "      <th>open</th>\n",
       "      <th>high</th>\n",
       "      <th>low</th>\n",
       "      <th>close</th>\n",
       "      <th>avg_per</th>\n",
       "      <th>tvi</th>\n",
       "      <th>cci</th>\n",
       "      <th>t3</th>\n",
       "      <th>ghl</th>\n",
       "    </tr>\n",
       "  </thead>\n",
       "  <tbody>\n",
       "    <tr>\n",
       "      <th>0</th>\n",
       "      <td>2015-01-05 10:00:00</td>\n",
       "      <td>78450.0</td>\n",
       "      <td>78450.0</td>\n",
       "      <td>73200.0</td>\n",
       "      <td>73930.0</td>\n",
       "      <td>100.00</td>\n",
       "      <td>0</td>\n",
       "      <td>0</td>\n",
       "      <td>0</td>\n",
       "      <td>0</td>\n",
       "    </tr>\n",
       "    <tr>\n",
       "      <th>1</th>\n",
       "      <td>2015-01-05 10:05:00</td>\n",
       "      <td>73890.0</td>\n",
       "      <td>74700.0</td>\n",
       "      <td>73660.0</td>\n",
       "      <td>74700.0</td>\n",
       "      <td>100.00</td>\n",
       "      <td>1</td>\n",
       "      <td>0</td>\n",
       "      <td>1</td>\n",
       "      <td>0</td>\n",
       "    </tr>\n",
       "    <tr>\n",
       "      <th>2</th>\n",
       "      <td>2015-01-05 10:10:00</td>\n",
       "      <td>74700.0</td>\n",
       "      <td>74720.0</td>\n",
       "      <td>73830.0</td>\n",
       "      <td>73950.0</td>\n",
       "      <td>100.00</td>\n",
       "      <td>1</td>\n",
       "      <td>0</td>\n",
       "      <td>1</td>\n",
       "      <td>0</td>\n",
       "    </tr>\n",
       "    <tr>\n",
       "      <th>3</th>\n",
       "      <td>2015-01-05 10:15:00</td>\n",
       "      <td>73970.0</td>\n",
       "      <td>74440.0</td>\n",
       "      <td>73620.0</td>\n",
       "      <td>74430.0</td>\n",
       "      <td>100.00</td>\n",
       "      <td>1</td>\n",
       "      <td>0</td>\n",
       "      <td>1</td>\n",
       "      <td>0</td>\n",
       "    </tr>\n",
       "    <tr>\n",
       "      <th>4</th>\n",
       "      <td>2015-01-05 10:20:00</td>\n",
       "      <td>74400.0</td>\n",
       "      <td>74720.0</td>\n",
       "      <td>74220.0</td>\n",
       "      <td>74410.0</td>\n",
       "      <td>100.00</td>\n",
       "      <td>1</td>\n",
       "      <td>0</td>\n",
       "      <td>1</td>\n",
       "      <td>0</td>\n",
       "    </tr>\n",
       "    <tr>\n",
       "      <th>...</th>\n",
       "      <td>...</td>\n",
       "      <td>...</td>\n",
       "      <td>...</td>\n",
       "      <td>...</td>\n",
       "      <td>...</td>\n",
       "      <td>...</td>\n",
       "      <td>...</td>\n",
       "      <td>...</td>\n",
       "      <td>...</td>\n",
       "      <td>...</td>\n",
       "    </tr>\n",
       "    <tr>\n",
       "      <th>410502</th>\n",
       "      <td>2024-12-17 23:25:00</td>\n",
       "      <td>72680.0</td>\n",
       "      <td>72720.0</td>\n",
       "      <td>72680.0</td>\n",
       "      <td>72690.0</td>\n",
       "      <td>43.72</td>\n",
       "      <td>1</td>\n",
       "      <td>1</td>\n",
       "      <td>1</td>\n",
       "      <td>1</td>\n",
       "    </tr>\n",
       "    <tr>\n",
       "      <th>410503</th>\n",
       "      <td>2024-12-17 23:30:00</td>\n",
       "      <td>72680.0</td>\n",
       "      <td>72690.0</td>\n",
       "      <td>72670.0</td>\n",
       "      <td>72690.0</td>\n",
       "      <td>43.74</td>\n",
       "      <td>1</td>\n",
       "      <td>1</td>\n",
       "      <td>1</td>\n",
       "      <td>1</td>\n",
       "    </tr>\n",
       "    <tr>\n",
       "      <th>410504</th>\n",
       "      <td>2024-12-17 23:35:00</td>\n",
       "      <td>72700.0</td>\n",
       "      <td>72790.0</td>\n",
       "      <td>72690.0</td>\n",
       "      <td>72790.0</td>\n",
       "      <td>43.86</td>\n",
       "      <td>1</td>\n",
       "      <td>1</td>\n",
       "      <td>1</td>\n",
       "      <td>1</td>\n",
       "    </tr>\n",
       "    <tr>\n",
       "      <th>410505</th>\n",
       "      <td>2024-12-17 23:40:00</td>\n",
       "      <td>72800.0</td>\n",
       "      <td>72820.0</td>\n",
       "      <td>72760.0</td>\n",
       "      <td>72810.0</td>\n",
       "      <td>44.03</td>\n",
       "      <td>1</td>\n",
       "      <td>1</td>\n",
       "      <td>1</td>\n",
       "      <td>1</td>\n",
       "    </tr>\n",
       "    <tr>\n",
       "      <th>410506</th>\n",
       "      <td>2024-12-17 23:45:00</td>\n",
       "      <td>72810.0</td>\n",
       "      <td>72860.0</td>\n",
       "      <td>72790.0</td>\n",
       "      <td>72850.0</td>\n",
       "      <td>44.16</td>\n",
       "      <td>1</td>\n",
       "      <td>1</td>\n",
       "      <td>1</td>\n",
       "      <td>1</td>\n",
       "    </tr>\n",
       "  </tbody>\n",
       "</table>\n",
       "<p>410507 rows × 10 columns</p>\n",
       "</div>"
      ],
      "text/plain": [
       "                 tradedate     open     high      low    close  avg_per  tvi  \\\n",
       "0      2015-01-05 10:00:00  78450.0  78450.0  73200.0  73930.0   100.00    0   \n",
       "1      2015-01-05 10:05:00  73890.0  74700.0  73660.0  74700.0   100.00    1   \n",
       "2      2015-01-05 10:10:00  74700.0  74720.0  73830.0  73950.0   100.00    1   \n",
       "3      2015-01-05 10:15:00  73970.0  74440.0  73620.0  74430.0   100.00    1   \n",
       "4      2015-01-05 10:20:00  74400.0  74720.0  74220.0  74410.0   100.00    1   \n",
       "...                    ...      ...      ...      ...      ...      ...  ...   \n",
       "410502 2024-12-17 23:25:00  72680.0  72720.0  72680.0  72690.0    43.72    1   \n",
       "410503 2024-12-17 23:30:00  72680.0  72690.0  72670.0  72690.0    43.74    1   \n",
       "410504 2024-12-17 23:35:00  72700.0  72790.0  72690.0  72790.0    43.86    1   \n",
       "410505 2024-12-17 23:40:00  72800.0  72820.0  72760.0  72810.0    44.03    1   \n",
       "410506 2024-12-17 23:45:00  72810.0  72860.0  72790.0  72850.0    44.16    1   \n",
       "\n",
       "        cci  t3  ghl  \n",
       "0         0   0    0  \n",
       "1         0   1    0  \n",
       "2         0   1    0  \n",
       "3         0   1    0  \n",
       "4         0   1    0  \n",
       "...     ...  ..  ...  \n",
       "410502    1   1    1  \n",
       "410503    1   1    1  \n",
       "410504    1   1    1  \n",
       "410505    1   1    1  \n",
       "410506    1   1    1  \n",
       "\n",
       "[410507 rows x 10 columns]"
      ]
     },
     "execution_count": 225,
     "metadata": {},
     "output_type": "execute_result"
    }
   ],
   "source": [
    "df = pd.read_csv('df_m5_TVI_CCI_T3_GHL.csv')\n",
    "df['tradedate'] = pd.to_datetime(df['tradedate'])\n",
    "# df.set_index('tradedate', inplace=True)  # Индекс должен быть временной меткой\n",
    "df"
   ]
  },
  {
   "cell_type": "markdown",
   "metadata": {},
   "source": [
    "Создание дата фрейма с колонкой признаков открытия позиции Bay или Sell."
   ]
  },
  {
   "cell_type": "code",
   "execution_count": 226,
   "metadata": {},
   "outputs": [],
   "source": [
    "# # Проверка, являются ли все значения в строке одинаковыми [1, 1, 1, 1] или [-1, -1, -1, -1]\n",
    "# df['IsAllSame'] = df[['tvi', 'cci', 't3', 'ghl']].eq(1).all(axis=1) | df[['tvi', 'cci', 't3', 'ghl']].eq(-1).all(axis=1)\n",
    "\n",
    "# # # Проверка, является ли текущая строка второй подряд с теми же значениями сигналов\n",
    "# # df['SecondInRow'] = df['IsAllSame'] & df['IsAllSame'].shift(1).fillna(False)\n",
    "\n",
    "# # Отмечаем только вторую строку в последовательности\n",
    "# df['SecondInRow'] = (\n",
    "#     df['IsAllSame'] &  # Текущая строка True\n",
    "#     df['IsAllSame'].shift(1).fillna(False).astype(bool)  # Предыдущая строка True\n",
    "# )\n",
    "\n",
    "# # Создаем колонку 'sig' с условиями\n",
    "# df['sig'] = 0  # Инициализируем с нулями\n",
    "# df.loc[df['IsAllSame'] & df['SecondInRow'], 'sig'] = 1  # Записываем 1 при выполнении условий\n",
    "\n",
    "# # Сохранение в файл\n",
    "# df.to_csv(\"signal.csv\", index=True)\n",
    "\n",
    "# # Результат\n",
    "# print(df)\n"
   ]
  },
  {
   "cell_type": "code",
   "execution_count": 227,
   "metadata": {},
   "outputs": [],
   "source": [
    "# Проверка, являются ли все значения в строке одинаковыми [1, 1, 1, 1] или [-1, -1, -1, -1]\n",
    "df['IsAllSame'] = df[['tvi', 'cci', 't3', 'ghl']].eq(1).all(axis=1) | \\\n",
    "    df[['tvi', 'cci', 't3', 'ghl']].eq(-1).all(axis=1)\n",
    "\n",
    "# Находим группы последовательных строк, где IsAllSame == True\n",
    "df['Group'] = (df['IsAllSame'] != df['IsAllSame'].shift(1)).cumsum()\n",
    "\n",
    "# Отмечаем только вторую строку в каждой группе, где IsAllSame == True\n",
    "df['SecondInRow'] = df.groupby('Group').cumcount() == 1\n",
    "df.loc[~df['IsAllSame'], 'SecondInRow'] = False  # Убираем строки, где IsAllSame == False\n",
    "\n",
    "# Добавляем колонку 'sig', отмечаем только вторую строку в последовательности\n",
    "df['sig'] = 0\n",
    "df.loc[df['SecondInRow'], 'sig'] = 1\n",
    "\n",
    "# Убираем вспомогательную колонку 'Group', 'IsAllSame', 'SecondInRow'\n",
    "df.drop(columns=['Group', 'IsAllSame', 'SecondInRow'], inplace=True)\n",
    "\n",
    "# Добавляем колонку с ценой открытия по сигналу\n",
    "df['sig_open'] = df.apply(lambda x: x.open if x.sig == 1 else 0, axis=1)\n",
    "\n",
    "# Добавляем колонку с направлением торговли\n",
    "# df['buy_sell'] = df.apply(\n",
    "#     lambda x: 1 if ((x.tvi == 1) & (x.cci == 1) & (x.t3 == 1) & (x.ghl == 1) & (x.sig == 1)) \n",
    "#     else (-1 if ((x.tvi == -1) & (x.cci == -1) & (x.t3 == -1) & (x.ghl == -1) & (x.sig == 1)) \n",
    "#     else 0), \n",
    "#     axis=1\n",
    "# )\n",
    "conditions = [\n",
    "    (df['tvi'] == 1) & (df['cci'] == 1) & (df['t3'] == 1) & (df['ghl'] == 1) & (df['sig'] == 1),\n",
    "    (df['tvi'] == -1) & (df['cci'] == -1) & (df['t3'] == -1) & (df['ghl'] == -1) & (df['sig'] == 1)\n",
    "]\n",
    "choices = [1, -1]\n",
    "df['buy_sell'] = np.select(conditions, choices, default=0)"
   ]
  },
  {
   "cell_type": "markdown",
   "metadata": {},
   "source": [
    "Создаем колонку \"profit\" в которую записываем:  \n",
    "если значение в колонке 'buy_sell' равно 1, то из ближайшего последующего значения в колонке 'sig_open' не равного 0, вычесть текущее значение в колонке 'sig_open'  \n",
    "если значение в колонке 'buy_sell' равно -1, то из текущего значения в колонке 'sig_open', вычесть ближайшее последующее значение в колонке 'sig_open' не равное 0  \n",
    "иначе, записать в колонку 0"
   ]
  },
  {
   "cell_type": "code",
   "execution_count": 228,
   "metadata": {},
   "outputs": [
    {
     "name": "stdout",
     "output_type": "stream",
     "text": [
      "float64\n",
      "int64\n"
     ]
    }
   ],
   "source": [
    "df['sig_open'] = pd.to_numeric(df['sig_open'], errors='coerce')\n",
    "df['buy_sell'] = pd.to_numeric(df['buy_sell'], errors='coerce')\n",
    "\n",
    "print(df['sig_open'].dtype)\n",
    "print(df['buy_sell'].dtype)"
   ]
  },
  {
   "cell_type": "code",
   "execution_count": 229,
   "metadata": {},
   "outputs": [],
   "source": [
    "# profits = []\n",
    "# for i in range(len(df)):\n",
    "#     buy_sell = df.loc[i, 'buy_sell']\n",
    "#     sig_open = df.loc[i, 'sig_open']\n",
    "\n",
    "#     if buy_sell == 1:\n",
    "#         # Найти ближайшее последующее значение не равное 0\n",
    "#         next_values = df.loc[i + 1:, 'sig_open']\n",
    "#         for next_value in next_values:\n",
    "#             if next_value != 0:\n",
    "#                 profits.append(next_value - sig_open)\n",
    "#                 break\n",
    "#         else:\n",
    "#             profits.append(0)  # Если нет подходящего значения\n",
    "#     elif buy_sell == -1:\n",
    "#         # Найти ближайшее последующее значение не равное 0\n",
    "#         next_values = df.loc[i + 1:, 'sig_open']\n",
    "#         for next_value in next_values:\n",
    "#             if next_value != 0:\n",
    "#                 profits.append(sig_open - next_value)\n",
    "#                 break\n",
    "#         else:\n",
    "#             profits.append(0)  # Если нет подходящего значения\n",
    "#     else:\n",
    "#         profits.append(0)\n",
    "\n",
    "# df['profit'] = profits\n",
    "# # print(df)"
   ]
  },
  {
   "cell_type": "code",
   "execution_count": 230,
   "metadata": {},
   "outputs": [],
   "source": [
    "def calculate_profit(row, sig_open_col, buy_sell_col):\n",
    "    # Индекс текущей строки\n",
    "    current_index = row.name\n",
    "\n",
    "    # Значение buy_sell для текущей строки\n",
    "    buy_sell = row[buy_sell_col]\n",
    "    sig_open = row[sig_open_col]\n",
    "\n",
    "    # Если buy_sell равно 1\n",
    "    if buy_sell == 1:\n",
    "        # Найти ближайшее последующее значение в sig_open, не равное 0\n",
    "        for next_value in df.loc[current_index + 1:, sig_open_col]:\n",
    "            if next_value != 0:\n",
    "                return next_value - sig_open\n",
    "\n",
    "    # Если buy_sell равно -1\n",
    "    elif buy_sell == -1:\n",
    "        # Найти ближайшее последующее значение в sig_open, не равное 0\n",
    "        for next_value in df.loc[current_index + 1:, sig_open_col]:\n",
    "            if next_value != 0:\n",
    "                return sig_open - next_value\n",
    "\n",
    "    # Если buy_sell не равно 1 или -1\n",
    "    return 0\n",
    "\n",
    "# Применить функцию ко всем строкам\n",
    "df['profit'] = df.apply(calculate_profit, axis=1, sig_open_col='sig_open', buy_sell_col='buy_sell')\n",
    "\n",
    "# # Результат\n",
    "# print(df)"
   ]
  },
  {
   "cell_type": "code",
   "execution_count": 231,
   "metadata": {},
   "outputs": [
    {
     "data": {
      "text/html": [
       "<div>\n",
       "<style scoped>\n",
       "    .dataframe tbody tr th:only-of-type {\n",
       "        vertical-align: middle;\n",
       "    }\n",
       "\n",
       "    .dataframe tbody tr th {\n",
       "        vertical-align: top;\n",
       "    }\n",
       "\n",
       "    .dataframe thead th {\n",
       "        text-align: right;\n",
       "    }\n",
       "</style>\n",
       "<table border=\"1\" class=\"dataframe\">\n",
       "  <thead>\n",
       "    <tr style=\"text-align: right;\">\n",
       "      <th></th>\n",
       "      <th>tradedate</th>\n",
       "      <th>open</th>\n",
       "      <th>high</th>\n",
       "      <th>low</th>\n",
       "      <th>close</th>\n",
       "      <th>avg_per</th>\n",
       "      <th>tvi</th>\n",
       "      <th>cci</th>\n",
       "      <th>t3</th>\n",
       "      <th>ghl</th>\n",
       "      <th>sig</th>\n",
       "      <th>sig_open</th>\n",
       "      <th>buy_sell</th>\n",
       "      <th>profit</th>\n",
       "    </tr>\n",
       "  </thead>\n",
       "  <tbody>\n",
       "    <tr>\n",
       "      <th>0</th>\n",
       "      <td>2015-01-05 10:00:00</td>\n",
       "      <td>78450.0</td>\n",
       "      <td>78450.0</td>\n",
       "      <td>73200.0</td>\n",
       "      <td>73930.0</td>\n",
       "      <td>100.00</td>\n",
       "      <td>0</td>\n",
       "      <td>0</td>\n",
       "      <td>0</td>\n",
       "      <td>0</td>\n",
       "      <td>0</td>\n",
       "      <td>0.0</td>\n",
       "      <td>0</td>\n",
       "      <td>0.0</td>\n",
       "    </tr>\n",
       "    <tr>\n",
       "      <th>1</th>\n",
       "      <td>2015-01-05 10:05:00</td>\n",
       "      <td>73890.0</td>\n",
       "      <td>74700.0</td>\n",
       "      <td>73660.0</td>\n",
       "      <td>74700.0</td>\n",
       "      <td>100.00</td>\n",
       "      <td>1</td>\n",
       "      <td>0</td>\n",
       "      <td>1</td>\n",
       "      <td>0</td>\n",
       "      <td>0</td>\n",
       "      <td>0.0</td>\n",
       "      <td>0</td>\n",
       "      <td>0.0</td>\n",
       "    </tr>\n",
       "    <tr>\n",
       "      <th>2</th>\n",
       "      <td>2015-01-05 10:10:00</td>\n",
       "      <td>74700.0</td>\n",
       "      <td>74720.0</td>\n",
       "      <td>73830.0</td>\n",
       "      <td>73950.0</td>\n",
       "      <td>100.00</td>\n",
       "      <td>1</td>\n",
       "      <td>0</td>\n",
       "      <td>1</td>\n",
       "      <td>0</td>\n",
       "      <td>0</td>\n",
       "      <td>0.0</td>\n",
       "      <td>0</td>\n",
       "      <td>0.0</td>\n",
       "    </tr>\n",
       "    <tr>\n",
       "      <th>3</th>\n",
       "      <td>2015-01-05 10:15:00</td>\n",
       "      <td>73970.0</td>\n",
       "      <td>74440.0</td>\n",
       "      <td>73620.0</td>\n",
       "      <td>74430.0</td>\n",
       "      <td>100.00</td>\n",
       "      <td>1</td>\n",
       "      <td>0</td>\n",
       "      <td>1</td>\n",
       "      <td>0</td>\n",
       "      <td>0</td>\n",
       "      <td>0.0</td>\n",
       "      <td>0</td>\n",
       "      <td>0.0</td>\n",
       "    </tr>\n",
       "    <tr>\n",
       "      <th>4</th>\n",
       "      <td>2015-01-05 10:20:00</td>\n",
       "      <td>74400.0</td>\n",
       "      <td>74720.0</td>\n",
       "      <td>74220.0</td>\n",
       "      <td>74410.0</td>\n",
       "      <td>100.00</td>\n",
       "      <td>1</td>\n",
       "      <td>0</td>\n",
       "      <td>1</td>\n",
       "      <td>0</td>\n",
       "      <td>0</td>\n",
       "      <td>0.0</td>\n",
       "      <td>0</td>\n",
       "      <td>0.0</td>\n",
       "    </tr>\n",
       "    <tr>\n",
       "      <th>...</th>\n",
       "      <td>...</td>\n",
       "      <td>...</td>\n",
       "      <td>...</td>\n",
       "      <td>...</td>\n",
       "      <td>...</td>\n",
       "      <td>...</td>\n",
       "      <td>...</td>\n",
       "      <td>...</td>\n",
       "      <td>...</td>\n",
       "      <td>...</td>\n",
       "      <td>...</td>\n",
       "      <td>...</td>\n",
       "      <td>...</td>\n",
       "      <td>...</td>\n",
       "    </tr>\n",
       "    <tr>\n",
       "      <th>410502</th>\n",
       "      <td>2024-12-17 23:25:00</td>\n",
       "      <td>72680.0</td>\n",
       "      <td>72720.0</td>\n",
       "      <td>72680.0</td>\n",
       "      <td>72690.0</td>\n",
       "      <td>43.72</td>\n",
       "      <td>1</td>\n",
       "      <td>1</td>\n",
       "      <td>1</td>\n",
       "      <td>1</td>\n",
       "      <td>0</td>\n",
       "      <td>0.0</td>\n",
       "      <td>0</td>\n",
       "      <td>0.0</td>\n",
       "    </tr>\n",
       "    <tr>\n",
       "      <th>410503</th>\n",
       "      <td>2024-12-17 23:30:00</td>\n",
       "      <td>72680.0</td>\n",
       "      <td>72690.0</td>\n",
       "      <td>72670.0</td>\n",
       "      <td>72690.0</td>\n",
       "      <td>43.74</td>\n",
       "      <td>1</td>\n",
       "      <td>1</td>\n",
       "      <td>1</td>\n",
       "      <td>1</td>\n",
       "      <td>0</td>\n",
       "      <td>0.0</td>\n",
       "      <td>0</td>\n",
       "      <td>0.0</td>\n",
       "    </tr>\n",
       "    <tr>\n",
       "      <th>410504</th>\n",
       "      <td>2024-12-17 23:35:00</td>\n",
       "      <td>72700.0</td>\n",
       "      <td>72790.0</td>\n",
       "      <td>72690.0</td>\n",
       "      <td>72790.0</td>\n",
       "      <td>43.86</td>\n",
       "      <td>1</td>\n",
       "      <td>1</td>\n",
       "      <td>1</td>\n",
       "      <td>1</td>\n",
       "      <td>0</td>\n",
       "      <td>0.0</td>\n",
       "      <td>0</td>\n",
       "      <td>0.0</td>\n",
       "    </tr>\n",
       "    <tr>\n",
       "      <th>410505</th>\n",
       "      <td>2024-12-17 23:40:00</td>\n",
       "      <td>72800.0</td>\n",
       "      <td>72820.0</td>\n",
       "      <td>72760.0</td>\n",
       "      <td>72810.0</td>\n",
       "      <td>44.03</td>\n",
       "      <td>1</td>\n",
       "      <td>1</td>\n",
       "      <td>1</td>\n",
       "      <td>1</td>\n",
       "      <td>0</td>\n",
       "      <td>0.0</td>\n",
       "      <td>0</td>\n",
       "      <td>0.0</td>\n",
       "    </tr>\n",
       "    <tr>\n",
       "      <th>410506</th>\n",
       "      <td>2024-12-17 23:45:00</td>\n",
       "      <td>72810.0</td>\n",
       "      <td>72860.0</td>\n",
       "      <td>72790.0</td>\n",
       "      <td>72850.0</td>\n",
       "      <td>44.16</td>\n",
       "      <td>1</td>\n",
       "      <td>1</td>\n",
       "      <td>1</td>\n",
       "      <td>1</td>\n",
       "      <td>0</td>\n",
       "      <td>0.0</td>\n",
       "      <td>0</td>\n",
       "      <td>0.0</td>\n",
       "    </tr>\n",
       "  </tbody>\n",
       "</table>\n",
       "<p>410507 rows × 14 columns</p>\n",
       "</div>"
      ],
      "text/plain": [
       "                 tradedate     open     high      low    close  avg_per  tvi  \\\n",
       "0      2015-01-05 10:00:00  78450.0  78450.0  73200.0  73930.0   100.00    0   \n",
       "1      2015-01-05 10:05:00  73890.0  74700.0  73660.0  74700.0   100.00    1   \n",
       "2      2015-01-05 10:10:00  74700.0  74720.0  73830.0  73950.0   100.00    1   \n",
       "3      2015-01-05 10:15:00  73970.0  74440.0  73620.0  74430.0   100.00    1   \n",
       "4      2015-01-05 10:20:00  74400.0  74720.0  74220.0  74410.0   100.00    1   \n",
       "...                    ...      ...      ...      ...      ...      ...  ...   \n",
       "410502 2024-12-17 23:25:00  72680.0  72720.0  72680.0  72690.0    43.72    1   \n",
       "410503 2024-12-17 23:30:00  72680.0  72690.0  72670.0  72690.0    43.74    1   \n",
       "410504 2024-12-17 23:35:00  72700.0  72790.0  72690.0  72790.0    43.86    1   \n",
       "410505 2024-12-17 23:40:00  72800.0  72820.0  72760.0  72810.0    44.03    1   \n",
       "410506 2024-12-17 23:45:00  72810.0  72860.0  72790.0  72850.0    44.16    1   \n",
       "\n",
       "        cci  t3  ghl  sig  sig_open  buy_sell  profit  \n",
       "0         0   0    0    0       0.0         0     0.0  \n",
       "1         0   1    0    0       0.0         0     0.0  \n",
       "2         0   1    0    0       0.0         0     0.0  \n",
       "3         0   1    0    0       0.0         0     0.0  \n",
       "4         0   1    0    0       0.0         0     0.0  \n",
       "...     ...  ..  ...  ...       ...       ...     ...  \n",
       "410502    1   1    1    0       0.0         0     0.0  \n",
       "410503    1   1    1    0       0.0         0     0.0  \n",
       "410504    1   1    1    0       0.0         0     0.0  \n",
       "410505    1   1    1    0       0.0         0     0.0  \n",
       "410506    1   1    1    0       0.0         0     0.0  \n",
       "\n",
       "[410507 rows x 14 columns]"
      ]
     },
     "execution_count": 231,
     "metadata": {},
     "output_type": "execute_result"
    }
   ],
   "source": [
    "# Сохранение в файл\n",
    "df.to_csv(\"signal.csv\", index=True)\n",
    "df.to_excel('signal.xlsx')\n",
    "\n",
    "# Результат\n",
    "df"
   ]
  },
  {
   "cell_type": "code",
   "execution_count": 232,
   "metadata": {},
   "outputs": [
    {
     "name": "stdout",
     "output_type": "stream",
     "text": [
      "sig\n",
      "0    374621\n",
      "1     35886\n",
      "Name: count, dtype: int64\n",
      "0.09579281460462707\n"
     ]
    }
   ],
   "source": [
    "# Учёт всех возможных значений (например, 0 и 1)\n",
    "sig_counts = df['sig'].value_counts().reindex([0, 1], fill_value=0)\n",
    "print(sig_counts)\n",
    "# print(type(sig_counts))\n",
    "print(sig_counts[1] / sig_counts[0])"
   ]
  },
  {
   "cell_type": "markdown",
   "metadata": {},
   "source": [
    "# Исследования"
   ]
  },
  {
   "cell_type": "code",
   "execution_count": 233,
   "metadata": {},
   "outputs": [],
   "source": [
    "# Очистка df\n",
    "df = df[df[\"profit\"] != 0.0]"
   ]
  },
  {
   "cell_type": "markdown",
   "metadata": {},
   "source": [
    "Для исследования значений колонки 'profit' в вашем DataFrame можно использовать несколько подходов, чтобы понять распределение, особенности и взаимосвязи данных. Вот несколько методов анализа:\n",
    "\n",
    "### 1. Основные статистики:  \n",
    "Для начала полезно получить описательные статистики для колонки profit, чтобы понять её распределение, средние значения и возможные выбросы.  \n",
    "\n",
    "Это даст вам информацию о:\n",
    "\n",
    "* count: количество значений.  \n",
    "* mean: среднее значение.  \n",
    "* std: стандартное отклонение.  \n",
    "* min, 25%, 50%, 75%, max: минимальное значение, квартиль 1, медиана (квартиль 2), квартиль 3 и максимальное значение.  "
   ]
  },
  {
   "cell_type": "code",
   "execution_count": 234,
   "metadata": {},
   "outputs": [
    {
     "name": "stdout",
     "output_type": "stream",
     "text": [
      "count    35295.000000\n",
      "mean        51.325117\n",
      "std        568.276654\n",
      "min     -13180.000000\n",
      "25%       -180.000000\n",
      "50%         10.000000\n",
      "75%        200.000000\n",
      "max      25370.000000\n",
      "Name: profit, dtype: float64\n"
     ]
    }
   ],
   "source": [
    "# Описательные статистики для колонки 'profit'\n",
    "print(df['profit'].describe())"
   ]
  },
  {
   "cell_type": "markdown",
   "metadata": {},
   "source": [
    "### 2. Частотное распределение:\n",
    "Подсчитаем, сколько раз встречаются различные значения в колонке profit.  \n",
    "Это поможет выявить, какие значения доминируют в колонке (например, сколько раз profit == 0, сколько раз profit > 0 и т.д.)."
   ]
  },
  {
   "cell_type": "code",
   "execution_count": 235,
   "metadata": {},
   "outputs": [
    {
     "name": "stdout",
     "output_type": "stream",
     "text": [
      "profit\n",
      " 30.0      652\n",
      " 20.0      643\n",
      " 10.0      619\n",
      " 50.0      611\n",
      " 40.0      601\n",
      "          ... \n",
      "-1490.0      1\n",
      "-1950.0      1\n",
      " 5130.0      1\n",
      "-2240.0      1\n",
      "-4410.0      1\n",
      "Name: count, Length: 625, dtype: int64\n"
     ]
    }
   ],
   "source": [
    "# Подсчет количества каждого значения\n",
    "print(df['profit'].value_counts())"
   ]
  },
  {
   "cell_type": "markdown",
   "metadata": {},
   "source": [
    "### 3. Визуализация распределения:  \n",
    "Для более детального анализа можно построить гистограмму или график плотности распределения (например, с помощью matplotlib или seaborn).  \n",
    "\n",
    "Гистограмма:  "
   ]
  },
  {
   "cell_type": "code",
   "execution_count": 236,
   "metadata": {},
   "outputs": [
    {
     "data": {
      "image/png": "[encoded data removed]",
      "text/plain": [
       "<Figure size 640x480 with 1 Axes>"
      ]
     },
     "metadata": {},
     "output_type": "display_data"
    }
   ],
   "source": [
    "import matplotlib.pyplot as plt\n",
    "\n",
    "# Гистограмма для 'profit'\n",
    "df['profit'].hist(bins=20, edgecolor='black')\n",
    "plt.title('Распределение profit')\n",
    "plt.xlabel('Profit')\n",
    "plt.ylabel('Частота')\n",
    "plt.show()"
   ]
  },
  {
   "cell_type": "markdown",
   "metadata": {},
   "source": [
    "График плотности (для непрерывных данных):  \n",
    "\n",
    "Эти графики помогут вам визуализировать распределение значений в колонке profit и выявить возможные выбросы или аномалии."
   ]
  },
  {
   "cell_type": "code",
   "execution_count": 237,
   "metadata": {},
   "outputs": [
    {
     "name": "stderr",
     "output_type": "stream",
     "text": [
      "C:\\Users\\Alkor\\AppData\\Local\\Temp\\ipykernel_9472\\362401535.py:4: FutureWarning: \n",
      "\n",
      "`shade` is now deprecated in favor of `fill`; setting `fill=True`.\n",
      "This will become an error in seaborn v0.14.0; please update your code.\n",
      "\n",
      "  sns.kdeplot(df['profit'], shade=True)\n"
     ]
    },
    {
     "data": {
      "image/png": "[encoded data removed]",
      "text/plain": [
       "<Figure size 640x480 with 1 Axes>"
      ]
     },
     "metadata": {},
     "output_type": "display_data"
    }
   ],
   "source": [
    "import seaborn as sns\n",
    "\n",
    "# График плотности для 'profit'\n",
    "sns.kdeplot(df['profit'], shade=True)\n",
    "plt.title('Плотность распределения profit')\n",
    "plt.xlabel('Profit')\n",
    "plt.ylabel('Плотность')\n",
    "plt.show()\n"
   ]
  },
  {
   "cell_type": "markdown",
   "metadata": {},
   "source": [
    "### 4. Выявление выбросов:  \n",
    "Можно использовать метод boxplot (диаграмма размаха), чтобы выявить выбросы в колонке profit.  \n",
    "\n",
    "Диаграмма размаха поможет вам увидеть:\n",
    "\n",
    "Медиану (в средней линии коробки).\n",
    "Интерквартильный размах (между нижней и верхней границей коробки).\n",
    "Потенциальные выбросы (точки за пределами «усов» коробки)."
   ]
  },
  {
   "cell_type": "code",
   "execution_count": 238,
   "metadata": {},
   "outputs": [
    {
     "data": {
      "image/png": "[encoded data removed]",
      "text/plain": [
       "<Figure size 640x480 with 1 Axes>"
      ]
     },
     "metadata": {},
     "output_type": "display_data"
    }
   ],
   "source": [
    "# Boxplot для 'profit'\n",
    "sns.boxplot(x=df['profit'])\n",
    "plt.title('Диаграмма размаха для profit')\n",
    "plt.show()\n"
   ]
  },
  {
   "cell_type": "markdown",
   "metadata": {},
   "source": [
    "# 5. Корреляция с другими колонками:\n",
    "Если вы хотите проверить, есть ли какая-либо зависимость между колонкой profit и другими колонками, например, buy_sell, sig_open и т. д., можно использовать корреляцию или визуализировать зависимости.\n",
    "\n",
    "Корреляция:"
   ]
  },
  {
   "cell_type": "code",
   "execution_count": 239,
   "metadata": {},
   "outputs": [
    {
     "name": "stdout",
     "output_type": "stream",
     "text": [
      "tradedate    0.004031\n",
      "open         0.007168\n",
      "high         0.007754\n",
      "low          0.006009\n",
      "close        0.006522\n",
      "avg_per      0.000217\n",
      "tvi         -0.002116\n",
      "cci         -0.002116\n",
      "t3          -0.002116\n",
      "ghl         -0.002116\n",
      "sig               NaN\n",
      "sig_open     0.007168\n",
      "buy_sell    -0.002116\n",
      "profit       1.000000\n",
      "Name: profit, dtype: float64\n"
     ]
    }
   ],
   "source": [
    "# Корреляция между 'profit' и другими колонками\n",
    "correlation = df.corr()\n",
    "print(correlation['profit'])\n"
   ]
  },
  {
   "cell_type": "markdown",
   "metadata": {},
   "source": [
    "Это покажет, насколько сильно profit коррелирует с другими числовыми колонками в DataFrame.\n",
    "\n",
    "Визуализация зависимости:"
   ]
  },
  {
   "cell_type": "code",
   "execution_count": 240,
   "metadata": {},
   "outputs": [
    {
     "data": {
      "image/png": "[encoded data removed]",
      "text/plain": [
       "<Figure size 640x480 with 1 Axes>"
      ]
     },
     "metadata": {},
     "output_type": "display_data"
    }
   ],
   "source": [
    "# С scatter plot для 'profit' и 'avg_per'\n",
    "sns.scatterplot(x=df['avg_per'], y=df['profit'])\n",
    "plt.title('Зависимость между avg_per и profit')\n",
    "plt.xlabel('avg_per')\n",
    "plt.ylabel('profit')\n",
    "plt.show()\n"
   ]
  }
 ],
 "metadata": {
  "kernelspec": {
   "display_name": ".venv",
   "language": "python",
   "name": "python3"
  },
  "language_info": {
   "codemirror_mode": {
    "name": "ipython",
    "version": 3
   },
   "file_extension": ".py",
   "mimetype": "text/x-python",
   "name": "python",
   "nbconvert_exporter": "python",
   "pygments_lexer": "ipython3",
   "version": "3.13.1"
  }
 },
 "nbformat": 4,
 "nbformat_minor": 2
}
